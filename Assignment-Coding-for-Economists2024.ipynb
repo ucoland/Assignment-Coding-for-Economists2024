{
 "cells": [
  {
   "cell_type": "code",
   "execution_count": 4,
   "id": "11a00e82-b892-46d7-b8f3-1a401878c5a3",
   "metadata": {},
   "outputs": [
    {
     "name": "stdout",
     "output_type": "stream",
     "text": [
      "   country city_actual  rating_count center1label center2label neighbourhood  \\\n",
      "0  Austria      Vienna          36.0  City centre    Donauturm   17. Hernals   \n",
      "1  Austria      Vienna         189.0  City centre    Donauturm   17. Hernals   \n",
      "2  Austria      Vienna          53.0  City centre    Donauturm    Alsergrund   \n",
      "3  Austria      Vienna          55.0  City centre    Donauturm    Alsergrund   \n",
      "4  Austria      Vienna          33.0  City centre    Donauturm    Alsergrund   \n",
      "\n",
      "   price    city  stars  ratingta  ...     offer_cat  year  month  weekend  \\\n",
      "0     81  Vienna    4.0       4.5  ...  15-50% offer  2017     11        0   \n",
      "1     81  Vienna    4.0       3.5  ...   1-15% offer  2017     11        0   \n",
      "2     85  Vienna    4.0       3.5  ...  15-50% offer  2017     11        0   \n",
      "3     83  Vienna    3.0       4.0  ...  15-50% offer  2017     11        0   \n",
      "4     82  Vienna    4.0       3.5  ...  15-50% offer  2017     11        0   \n",
      "\n",
      "  holiday  distance  distance_alter  accommodation_type  nnights  rating  \n",
      "0       0       2.7             4.4           Apartment        1     4.4  \n",
      "1       0       1.7             3.8               Hotel        1     3.9  \n",
      "2       0       1.4             2.5               Hotel        1     3.7  \n",
      "3       0       1.7             2.5               Hotel        1     4.0  \n",
      "4       0       1.2             2.8               Hotel        1     3.9  \n",
      "\n",
      "[5 rows x 24 columns]\n"
     ]
    }
   ],
   "source": [
    "# Task 5\n",
    "## Import Data\n",
    "import pandas as pd\n",
    "\n",
    "df = pd.read_csv('data/hotels-vienna.csv')\n",
    "print(df.head())"
   ]
  },
  {
   "cell_type": "code",
   "execution_count": 6,
   "id": "320580b7-331b-48d5-81ac-e4a002976046",
   "metadata": {},
   "outputs": [
    {
     "name": "stdout",
     "output_type": "stream",
     "text": [
      "country                object\n",
      "city_actual            object\n",
      "rating_count          float64\n",
      "center1label           object\n",
      "center2label           object\n",
      "neighbourhood          object\n",
      "price                   int64\n",
      "city                   object\n",
      "stars                 float64\n",
      "ratingta              float64\n",
      "ratingta_count        float64\n",
      "scarce_room             int64\n",
      "hotel_id                int64\n",
      "offer                   int64\n",
      "offer_cat              object\n",
      "year                    int64\n",
      "month                   int64\n",
      "weekend                 int64\n",
      "holiday                 int64\n",
      "distance              float64\n",
      "distance_alter        float64\n",
      "accommodation_type     object\n",
      "nnights                 int64\n",
      "rating                float64\n",
      "dtype: object\n"
     ]
    }
   ],
   "source": [
    "## Check Variable Types\n",
    "print(df.dtypes)"
   ]
  },
  {
   "cell_type": "code",
   "execution_count": 8,
   "id": "54b9befb-4869-4316-a1d9-473fada5f11a",
   "metadata": {},
   "outputs": [
    {
     "name": "stdout",
     "output_type": "stream",
     "text": [
      "country                 0\n",
      "city_actual             0\n",
      "rating_count           35\n",
      "center1label            0\n",
      "center2label            0\n",
      "neighbourhood           0\n",
      "price                   0\n",
      "city                    0\n",
      "stars                   0\n",
      "ratingta              103\n",
      "ratingta_count        103\n",
      "scarce_room             0\n",
      "hotel_id                0\n",
      "offer                   0\n",
      "offer_cat               0\n",
      "year                    0\n",
      "month                   0\n",
      "weekend                 0\n",
      "holiday                 0\n",
      "distance                0\n",
      "distance_alter          0\n",
      "accommodation_type      0\n",
      "nnights                 0\n",
      "rating                 35\n",
      "dtype: int64\n"
     ]
    }
   ],
   "source": [
    "## Check Errors\n",
    "print(df.isnull().sum())"
   ]
  },
  {
   "cell_type": "code",
   "execution_count": 10,
   "id": "ffa22723-9806-4790-a2d0-a3d0af3f8e3a",
   "metadata": {},
   "outputs": [
    {
     "name": "stdout",
     "output_type": "stream",
     "text": [
      "     country city_actual  rating_count center1label center2label  \\\n",
      "0    Austria      Vienna          36.0  City centre    Donauturm   \n",
      "1    Austria      Vienna         189.0  City centre    Donauturm   \n",
      "2    Austria      Vienna          53.0  City centre    Donauturm   \n",
      "3    Austria      Vienna          55.0  City centre    Donauturm   \n",
      "4    Austria      Vienna          33.0  City centre    Donauturm   \n",
      "..       ...         ...           ...          ...          ...   \n",
      "422  Austria      Vienna          53.0  City centre    Donauturm   \n",
      "423  Austria      Vienna           2.0  City centre    Donauturm   \n",
      "424  Austria      Vienna         145.0  City centre    Donauturm   \n",
      "425  Austria      Vienna         112.0  City centre    Donauturm   \n",
      "426  Austria      Vienna         169.0  City centre    Donauturm   \n",
      "\n",
      "    neighbourhood  price    city  stars  ratingta  ...      offer_cat  year  \\\n",
      "0     17. Hernals     81  Vienna    4.0       4.5  ...   15-50% offer  2017   \n",
      "1     17. Hernals     81  Vienna    4.0       3.5  ...    1-15% offer  2017   \n",
      "2      Alsergrund     85  Vienna    4.0       3.5  ...   15-50% offer  2017   \n",
      "3      Alsergrund     83  Vienna    3.0       4.0  ...   15-50% offer  2017   \n",
      "4      Alsergrund     82  Vienna    4.0       3.5  ...   15-50% offer  2017   \n",
      "..            ...    ...     ...    ...       ...  ...            ...   ...   \n",
      "422        Wieden     73  Vienna    3.0       3.0  ...    1-15% offer  2017   \n",
      "423        Wieden    109  Vienna    3.0       3.0  ...  50%-75% offer  2017   \n",
      "424        Wieden    185  Vienna    5.0       4.0  ...   15-50% offer  2017   \n",
      "425        Wieden    100  Vienna    4.0       4.5  ...    0% no offer  2017   \n",
      "426        Wieden     58  Vienna    3.0       3.0  ...   15-50% offer  2017   \n",
      "\n",
      "     month  weekend holiday  distance  distance_alter  accommodation_type  \\\n",
      "0       11        0       0       2.7             4.4           Apartment   \n",
      "1       11        0       0       1.7             3.8               Hotel   \n",
      "2       11        0       0       1.4             2.5               Hotel   \n",
      "3       11        0       0       1.7             2.5               Hotel   \n",
      "4       11        0       0       1.2             2.8               Hotel   \n",
      "..     ...      ...     ...       ...             ...                 ...   \n",
      "422     11        0       0       1.5             4.0               Hotel   \n",
      "423     11        0       0       1.5             3.8           Apartment   \n",
      "424     11        0       0       0.8             3.6               Hotel   \n",
      "425     11        0       0       1.0             3.7               Hotel   \n",
      "426     11        0       0       1.4             4.1               Hotel   \n",
      "\n",
      "     nnights  rating  \n",
      "0          1     4.4  \n",
      "1          1     3.9  \n",
      "2          1     3.7  \n",
      "3          1     4.0  \n",
      "4          1     3.9  \n",
      "..       ...     ...  \n",
      "422        1     3.4  \n",
      "423        1     5.0  \n",
      "424        1     4.3  \n",
      "425        1     4.4  \n",
      "426        1     3.2  \n",
      "\n",
      "[322 rows x 24 columns]\n"
     ]
    }
   ],
   "source": [
    "## Delete data inclusing missing values\n",
    "df_cleaned = df.dropna()\n",
    "print(df_cleaned)"
   ]
  },
  {
   "cell_type": "code",
   "execution_count": 12,
   "id": "e5f765cf-cc5e-4107-9bbb-b50ec6229100",
   "metadata": {},
   "outputs": [
    {
     "ename": "NameError",
     "evalue": "name 're' is not defined",
     "output_type": "error",
     "traceback": [
      "\u001b[0;31m---------------------------------------------------------------------------\u001b[0m",
      "\u001b[0;31mNameError\u001b[0m                                 Traceback (most recent call last)",
      "Cell \u001b[0;32mIn[12], line 3\u001b[0m\n\u001b[1;32m      1\u001b[0m \u001b[38;5;66;03m# Task 2\u001b[39;00m\n\u001b[1;32m      2\u001b[0m \u001b[38;5;28;01mfor\u001b[39;00m i, value \u001b[38;5;129;01min\u001b[39;00m \u001b[38;5;28menumerate\u001b[39m(df[\u001b[38;5;124m'\u001b[39m\u001b[38;5;124mneighbourhood\u001b[39m\u001b[38;5;124m'\u001b[39m]):\n\u001b[0;32m----> 3\u001b[0m     df\u001b[38;5;241m.\u001b[39mat[i, \u001b[38;5;124m'\u001b[39m\u001b[38;5;124mneighbourhood\u001b[39m\u001b[38;5;124m'\u001b[39m] \u001b[38;5;241m=\u001b[39m re\u001b[38;5;241m.\u001b[39msub(\u001b[38;5;124mr\u001b[39m\u001b[38;5;124m'\u001b[39m\u001b[38;5;124m^\u001b[39m\u001b[38;5;124m\\\u001b[39m\u001b[38;5;124md+\u001b[39m\u001b[38;5;124m\\\u001b[39m\u001b[38;5;124m.\u001b[39m\u001b[38;5;124m\\\u001b[39m\u001b[38;5;124ms*\u001b[39m\u001b[38;5;124m'\u001b[39m, \u001b[38;5;124m'\u001b[39m\u001b[38;5;124m'\u001b[39m, value)\n",
      "\u001b[0;31mNameError\u001b[0m: name 're' is not defined"
     ]
    }
   ],
   "source": [
    "# Task 2\n",
    "for i, value in enumerate(df['neighbourhood']):\n",
    "    df.at[i, 'neighbourhood'] = re.sub(r'^\\d+\\.\\s*', '', value)"
   ]
  },
  {
   "cell_type": "code",
   "execution_count": null,
   "id": "04ab4b4a-7d01-4e1b-8049-6da10780fa42",
   "metadata": {},
   "outputs": [],
   "source": []
  }
 ],
 "metadata": {
  "kernelspec": {
   "display_name": "Python 3 (ipykernel)",
   "language": "python",
   "name": "python3"
  },
  "language_info": {
   "codemirror_mode": {
    "name": "ipython",
    "version": 3
   },
   "file_extension": ".py",
   "mimetype": "text/x-python",
   "name": "python",
   "nbconvert_exporter": "python",
   "pygments_lexer": "ipython3",
   "version": "3.12.4"
  }
 },
 "nbformat": 4,
 "nbformat_minor": 5
}
